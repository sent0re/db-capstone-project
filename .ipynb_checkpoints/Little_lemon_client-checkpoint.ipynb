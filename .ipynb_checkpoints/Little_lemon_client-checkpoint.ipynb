{
 "cells": [
  {
   "cell_type": "code",
   "execution_count": 14,
   "id": "efe3406f-ab05-4586-8c43-dcdc8f4d8f02",
   "metadata": {},
   "outputs": [
    {
     "name": "stdout",
     "output_type": "stream",
     "text": [
      "Imported\n"
     ]
    }
   ],
   "source": [
    "import mysql.connector as connector\n",
    "print(\"Imported\")"
   ]
  },
  {
   "cell_type": "code",
   "execution_count": 15,
   "id": "c503fa42-fb5f-4fca-a53b-d8c5cd54dc73",
   "metadata": {},
   "outputs": [
    {
     "name": "stdout",
     "output_type": "stream",
     "text": [
      "Connection created\n"
     ]
    }
   ],
   "source": [
    "connection = connector.connect(user = \"root\", password = \"W7301@jqir#\", db = \"littlelemondm\")\n",
    "print(\"Connection created\")"
   ]
  },
  {
   "cell_type": "code",
   "execution_count": 16,
   "id": "9bf5e254-97f4-45c3-aafb-5631ad18de98",
   "metadata": {},
   "outputs": [
    {
     "name": "stdout",
     "output_type": "stream",
     "text": [
      "Cursor called\n"
     ]
    }
   ],
   "source": [
    "cursor = connection.cursor()\n",
    "print(\"Cursor called\")"
   ]
  },
  {
   "cell_type": "code",
   "execution_count": 18,
   "id": "1ee8f0a9-2504-4834-85f3-f9f19740b611",
   "metadata": {},
   "outputs": [
    {
     "data": {
      "text/plain": [
       "'littlelemondm'"
      ]
     },
     "execution_count": 18,
     "metadata": {},
     "output_type": "execute_result"
    }
   ],
   "source": [
    "connection.database"
   ]
  },
  {
   "cell_type": "code",
   "execution_count": 20,
   "id": "8f1751e3-e636-4420-9d77-961f188de19e",
   "metadata": {},
   "outputs": [
    {
     "name": "stdout",
     "output_type": "stream",
     "text": [
      "('bookings',)\n",
      "('customers',)\n",
      "('employees',)\n",
      "('menu',)\n",
      "('menuitems',)\n",
      "('orderdeliverystatus',)\n",
      "('orders',)\n",
      "('ordersview',)\n"
     ]
    }
   ],
   "source": [
    "show_tables_query = \"\"\"show tables\"\"\"\n",
    "cursor.execute(show_tables_query)\n",
    "# results = cursor.fetchall()\n",
    "# print(results)\n",
    "for tables in cursor:\n",
    "    print(tables)"
   ]
  },
  {
   "cell_type": "code",
   "execution_count": 27,
   "id": "302fb207-75a6-4b64-9dbe-2bdb97410ee5",
   "metadata": {},
   "outputs": [
    {
     "name": "stdout",
     "output_type": "stream",
     "text": [
      "Cutsomer details\n",
      "\n",
      "[FullName: Alice Johnson]\n",
      "[Contact: 5555551212]\n",
      "[BillAmount: $45.00]\n"
     ]
    }
   ],
   "source": [
    "customer_details_query = \"\"\"select concat(FirstName, \" \", LastName), ContactNumber, TotalCost as BillAmount\n",
    " from Customers c\n",
    " inner join Bookings b using(CustomerID)\n",
    " inner join Orders o using(BookingID)\n",
    " where TotalCost > 30;\"\"\"\n",
    "cursor.execute(customer_details_query)\n",
    "print(\"Cutsomer details\")\n",
    "print()\n",
    "\n",
    "# for data in cursor:\n",
    "#     print(f\"data)\n",
    "results = cursor.fetchall()\n",
    "for data in results:\n",
    "    print(f\"[FullName: {data[0]}]\\n[Contact: {data[1]}]\\n[BillAmount: ${data[2]}]\")"
   ]
  },
  {
   "cell_type": "code",
   "execution_count": null,
   "id": "5d4e3444-42c7-4280-b245-1bc35313e06e",
   "metadata": {},
   "outputs": [],
   "source": []
  }
 ],
 "metadata": {
  "kernelspec": {
   "display_name": "Python 3 (ipykernel)",
   "language": "python",
   "name": "python3"
  },
  "language_info": {
   "codemirror_mode": {
    "name": "ipython",
    "version": 3
   },
   "file_extension": ".py",
   "mimetype": "text/x-python",
   "name": "python",
   "nbconvert_exporter": "python",
   "pygments_lexer": "ipython3",
   "version": "3.12.0"
  }
 },
 "nbformat": 4,
 "nbformat_minor": 5
}
